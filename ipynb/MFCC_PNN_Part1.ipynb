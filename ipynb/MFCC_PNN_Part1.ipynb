{
 "cells": [
  {
   "cell_type": "markdown",
   "metadata": {
    "id": "XQS1x158oRuM"
   },
   "source": [
    "# Import Libraries"
   ]
  },
  {
   "cell_type": "code",
   "execution_count": 1,
   "metadata": {
    "id": "pXrLxn0sm5VE"
   },
   "outputs": [],
   "source": [
    "import pandas as pd\n",
    "import seaborn as sns\n",
    "import librosa as lb\n",
    "import soundfile as sf\n",
    "import os"
   ]
  },
  {
   "cell_type": "markdown",
   "metadata": {
    "id": "_0_ufJcRoZb5"
   },
   "source": [
    "# Load Dataset"
   ]
  },
  {
   "cell_type": "markdown",
   "metadata": {
    "id": "f2a_L9uLofkb"
   },
   "source": [
    "### Deskripsi Dataset\n",
    "\n",
    "Source: https://www.kaggle.com/datasets/vbookshelf/respiratory-sound-database?resource=download\n",
    "\n",
    "Berisikan 920 rekaman audio (10s to 90s). Diambil dari 126 pasien. Total 5.5 jam rekaman berisikan 6898 siklus pernapasan.\n",
    "1864 mengandung crackles, 886 mengandung wheezes dan 506 mengandung keduanya.\n",
    "Data berisikan suara pernapasan jernih dan bernoise untuk mensimulasikan kondisi nyata.\n",
    "Umur dari pasien bervariasi.\n",
    "\n",
    "Dataset berisikan:\n",
    "- 920 .wav sound files\n",
    "- 920 anotasi .txt files\n",
    "- Text file berisikan diagnosis setiap pasien\n",
    "- Text file menjelaskan format penamaan rekaman\n",
    "- Text file berisikan informasi demografis setiap pasien\n",
    "\n",
    "Terdapat 6 fitur dalam demografik:\n",
    "- Patient number (101-226)\n",
    "- Age\n",
    "- Sex\n",
    "- Adult BMI (kg/m2)\n",
    "- Child Weight (kg)\n",
    "- Child Height (cm)"
   ]
  },
  {
   "cell_type": "markdown",
   "metadata": {
    "id": "r5x7VkVz_3ER"
   },
   "source": [
    "### Data Pasien"
   ]
  },
  {
   "cell_type": "code",
   "execution_count": 2,
   "metadata": {
    "colab": {
     "base_uri": "https://localhost:8080/",
     "height": 206
    },
    "id": "WgQJd52BqxF9",
    "outputId": "30b4bfc0-3025-4d32-c816-f65ef66dde3a"
   },
   "outputs": [
    {
     "data": {
      "text/html": [
       "<div>\n",
       "<style scoped>\n",
       "    .dataframe tbody tr th:only-of-type {\n",
       "        vertical-align: middle;\n",
       "    }\n",
       "\n",
       "    .dataframe tbody tr th {\n",
       "        vertical-align: top;\n",
       "    }\n",
       "\n",
       "    .dataframe thead th {\n",
       "        text-align: right;\n",
       "    }\n",
       "</style>\n",
       "<table border=\"1\" class=\"dataframe\">\n",
       "  <thead>\n",
       "    <tr style=\"text-align: right;\">\n",
       "      <th></th>\n",
       "      <th>pid</th>\n",
       "      <th>diagnosa</th>\n",
       "    </tr>\n",
       "  </thead>\n",
       "  <tbody>\n",
       "    <tr>\n",
       "      <th>0</th>\n",
       "      <td>101</td>\n",
       "      <td>URTI</td>\n",
       "    </tr>\n",
       "    <tr>\n",
       "      <th>1</th>\n",
       "      <td>102</td>\n",
       "      <td>Healthy</td>\n",
       "    </tr>\n",
       "    <tr>\n",
       "      <th>2</th>\n",
       "      <td>103</td>\n",
       "      <td>Asthma</td>\n",
       "    </tr>\n",
       "    <tr>\n",
       "      <th>3</th>\n",
       "      <td>104</td>\n",
       "      <td>COPD</td>\n",
       "    </tr>\n",
       "    <tr>\n",
       "      <th>4</th>\n",
       "      <td>105</td>\n",
       "      <td>URTI</td>\n",
       "    </tr>\n",
       "  </tbody>\n",
       "</table>\n",
       "</div>"
      ],
      "text/plain": [
       "   pid diagnosa\n",
       "0  101     URTI\n",
       "1  102  Healthy\n",
       "2  103   Asthma\n",
       "3  104     COPD\n",
       "4  105     URTI"
      ]
     },
     "execution_count": 2,
     "metadata": {},
     "output_type": "execute_result"
    }
   ],
   "source": [
    "data_pasien= pd.read_csv(r\"G:\\Documents\\Udayana\\TA\\Dataset Suara Paru Kaggle\\Respiratory_Sound_Database\\patient_diagnosis.csv\",names=['pid','diagnosa'])\n",
    "data_pasien.head()"
   ]
  },
  {
   "cell_type": "code",
   "execution_count": 5,
   "metadata": {},
   "outputs": [
    {
     "data": {
      "text/plain": [
       "<Axes: xlabel='count', ylabel='diagnosa'>"
      ]
     },
     "execution_count": 5,
     "metadata": {},
     "output_type": "execute_result"
    },
    {
     "data": {
      "image/png": "[encoded data removed]",
      "text/plain": [
       "<Figure size 640x480 with 1 Axes>"
      ]
     },
     "metadata": {},
     "output_type": "display_data"
    }
   ],
   "source": [
    "sns.countplot(data_pasien.diagnosa)"
   ]
  },
  {
   "cell_type": "markdown",
   "metadata": {},
   "source": [
    "# Pre-processing"
   ]
  },
  {
   "cell_type": "markdown",
   "metadata": {
    "id": "lpKzbxiH_9hi"
   },
   "source": [
    "### Anotasi Rekaman"
   ]
  },
  {
   "cell_type": "markdown",
   "metadata": {
    "id": "mD_tTUIQBCOm"
   },
   "source": [
    "awal siklus pernapasan (detik), akhir siklus pernapasan (detik), crackles (1/0), wheezes (1/0)"
   ]
  },
  {
   "cell_type": "code",
   "execution_count": 7,
   "metadata": {
    "colab": {
     "base_uri": "https://localhost:8080/",
     "height": 206
    },
    "id": "dsLBoLprAaCC",
    "outputId": "7e887d45-da99-4b32-88bb-5557bb8e8c47"
   },
   "outputs": [
    {
     "data": {
      "text/html": [
       "<div>\n",
       "<style scoped>\n",
       "    .dataframe tbody tr th:only-of-type {\n",
       "        vertical-align: middle;\n",
       "    }\n",
       "\n",
       "    .dataframe tbody tr th {\n",
       "        vertical-align: top;\n",
       "    }\n",
       "\n",
       "    .dataframe thead th {\n",
       "        text-align: right;\n",
       "    }\n",
       "</style>\n",
       "<table border=\"1\" class=\"dataframe\">\n",
       "  <thead>\n",
       "    <tr style=\"text-align: right;\">\n",
       "      <th></th>\n",
       "      <th>0.364</th>\n",
       "      <th>3.25</th>\n",
       "      <th>0</th>\n",
       "      <th>1</th>\n",
       "    </tr>\n",
       "  </thead>\n",
       "  <tbody>\n",
       "    <tr>\n",
       "      <th>0</th>\n",
       "      <td>3.250</td>\n",
       "      <td>6.636</td>\n",
       "      <td>0</td>\n",
       "      <td>0</td>\n",
       "    </tr>\n",
       "    <tr>\n",
       "      <th>1</th>\n",
       "      <td>6.636</td>\n",
       "      <td>11.179</td>\n",
       "      <td>0</td>\n",
       "      <td>1</td>\n",
       "    </tr>\n",
       "    <tr>\n",
       "      <th>2</th>\n",
       "      <td>11.179</td>\n",
       "      <td>14.250</td>\n",
       "      <td>0</td>\n",
       "      <td>1</td>\n",
       "    </tr>\n",
       "    <tr>\n",
       "      <th>3</th>\n",
       "      <td>14.250</td>\n",
       "      <td>16.993</td>\n",
       "      <td>0</td>\n",
       "      <td>1</td>\n",
       "    </tr>\n",
       "    <tr>\n",
       "      <th>4</th>\n",
       "      <td>16.993</td>\n",
       "      <td>19.979</td>\n",
       "      <td>0</td>\n",
       "      <td>0</td>\n",
       "    </tr>\n",
       "  </tbody>\n",
       "</table>\n",
       "</div>"
      ],
      "text/plain": [
       "    0.364    3.25  0  1\n",
       "0   3.250   6.636  0  0\n",
       "1   6.636  11.179  0  1\n",
       "2  11.179  14.250  0  1\n",
       "3  14.250  16.993  0  1\n",
       "4  16.993  19.979  0  0"
      ]
     },
     "execution_count": 7,
     "metadata": {},
     "output_type": "execute_result"
    }
   ],
   "source": [
    "df=pd.read_csv(r\"G:\\Documents\\Udayana\\TA\\Dataset Suara Paru Kaggle\\Respiratory_Sound_Database\\audio_and_txt_files\\103_2b2_Ar_mc_LittC2SE.txt\",sep='\\t')\n",
    "df.head()"
   ]
  },
  {
   "cell_type": "markdown",
   "metadata": {
    "id": "JhynANgbB2tI"
   },
   "source": [
    "Menggabungkan semua anotasi rekaman menjadi dataset"
   ]
  },
  {
   "cell_type": "code",
   "execution_count": 3,
   "metadata": {
    "colab": {
     "base_uri": "https://localhost:8080/",
     "height": 219
    },
    "id": "9oXl-iFUBvMl",
    "outputId": "852ad496-dee0-4732-dea4-3c48ac527e81"
   },
   "outputs": [
    {
     "data": {
      "text/plain": [
       "['101_1b1_Al_sc_Meditron',\n",
       " '101_1b1_Pr_sc_Meditron',\n",
       " '102_1b1_Ar_sc_Meditron',\n",
       " '103_2b2_Ar_mc_LittC2SE',\n",
       " '104_1b1_Al_sc_Litt3200']"
      ]
     },
     "execution_count": 3,
     "metadata": {},
     "output_type": "execute_result"
    }
   ],
   "source": [
    "path=\"G:\\\\Documents\\\\Udayana\\\\TA\\\\Dataset Suara Paru Kaggle\\\\Respiratory_Sound_Database\\\\audio_and_txt_files\\\\\"\n",
    "files=[s.split('.')[0] for s in os.listdir(path) if '.txt' in s]\n",
    "files[:5]"
   ]
  },
  {
   "cell_type": "markdown",
   "metadata": {},
   "source": [
    "### Nama File Rekaman"
   ]
  },
  {
   "cell_type": "code",
   "execution_count": 4,
   "metadata": {},
   "outputs": [],
   "source": [
    "def getNamaRekaman(file):\n",
    "    return file.split('_')"
   ]
  },
  {
   "cell_type": "code",
   "execution_count": 5,
   "metadata": {},
   "outputs": [
    {
     "data": {
      "text/plain": [
       "['103', '2b2', 'Ar', 'mc', 'LittC2SE']"
      ]
     },
     "execution_count": 5,
     "metadata": {},
     "output_type": "execute_result"
    }
   ],
   "source": [
    "getNamaRekaman('103_2b2_Ar_mc_LittC2SE')"
   ]
  },
  {
   "cell_type": "markdown",
   "metadata": {},
   "source": [
    "### Gabungan anotasi dan nama file rekaman"
   ]
  },
  {
   "cell_type": "code",
   "execution_count": null,
   "metadata": {},
   "outputs": [
    {
     "data": {
      "text/html": [
       "<div>\n",
       "<style scoped>\n",
       "    .dataframe tbody tr th:only-of-type {\n",
       "        vertical-align: middle;\n",
       "    }\n",
       "\n",
       "    .dataframe tbody tr th {\n",
       "        vertical-align: top;\n",
       "    }\n",
       "\n",
       "    .dataframe thead th {\n",
       "        text-align: right;\n",
       "    }\n",
       "</style>\n",
       "<table border=\"1\" class=\"dataframe\">\n",
       "  <thead>\n",
       "    <tr style=\"text-align: right;\">\n",
       "      <th></th>\n",
       "      <th>awal</th>\n",
       "      <th>akhir</th>\n",
       "      <th>crackles</th>\n",
       "      <th>wheezes</th>\n",
       "      <th>pid</th>\n",
       "      <th>mode</th>\n",
       "      <th>namafile</th>\n",
       "    </tr>\n",
       "  </thead>\n",
       "  <tbody>\n",
       "    <tr>\n",
       "      <th>0</th>\n",
       "      <td>0.036</td>\n",
       "      <td>0.579</td>\n",
       "      <td>0</td>\n",
       "      <td>0</td>\n",
       "      <td>101</td>\n",
       "      <td>sc</td>\n",
       "      <td>101_1b1_Al_sc_Meditron</td>\n",
       "    </tr>\n",
       "    <tr>\n",
       "      <th>1</th>\n",
       "      <td>0.579</td>\n",
       "      <td>2.450</td>\n",
       "      <td>0</td>\n",
       "      <td>0</td>\n",
       "      <td>101</td>\n",
       "      <td>sc</td>\n",
       "      <td>101_1b1_Al_sc_Meditron</td>\n",
       "    </tr>\n",
       "    <tr>\n",
       "      <th>2</th>\n",
       "      <td>2.450</td>\n",
       "      <td>3.893</td>\n",
       "      <td>0</td>\n",
       "      <td>0</td>\n",
       "      <td>101</td>\n",
       "      <td>sc</td>\n",
       "      <td>101_1b1_Al_sc_Meditron</td>\n",
       "    </tr>\n",
       "    <tr>\n",
       "      <th>3</th>\n",
       "      <td>3.893</td>\n",
       "      <td>5.793</td>\n",
       "      <td>0</td>\n",
       "      <td>0</td>\n",
       "      <td>101</td>\n",
       "      <td>sc</td>\n",
       "      <td>101_1b1_Al_sc_Meditron</td>\n",
       "    </tr>\n",
       "    <tr>\n",
       "      <th>4</th>\n",
       "      <td>5.793</td>\n",
       "      <td>7.521</td>\n",
       "      <td>0</td>\n",
       "      <td>0</td>\n",
       "      <td>101</td>\n",
       "      <td>sc</td>\n",
       "      <td>101_1b1_Al_sc_Meditron</td>\n",
       "    </tr>\n",
       "  </tbody>\n",
       "</table>\n",
       "</div>"
      ],
      "text/plain": [
       "    awal  akhir  crackles  wheezes  pid mode                namafile\n",
       "0  0.036  0.579         0        0  101   sc  101_1b1_Al_sc_Meditron\n",
       "1  0.579  2.450         0        0  101   sc  101_1b1_Al_sc_Meditron\n",
       "2  2.450  3.893         0        0  101   sc  101_1b1_Al_sc_Meditron\n",
       "3  3.893  5.793         0        0  101   sc  101_1b1_Al_sc_Meditron\n",
       "4  5.793  7.521         0        0  101   sc  101_1b1_Al_sc_Meditron"
      ]
     },
     "execution_count": 27,
     "metadata": {},
     "output_type": "execute_result"
    }
   ],
   "source": [
    "files_data=[]\n",
    "for file in files:\n",
    "    data=pd.read_csv(path + file + '.txt',sep='\\t',names=['awal','akhir','crackles','wheezes'])\n",
    "    name_data=getNamaRekaman(file)\n",
    "    data['pid']=name_data[0]\n",
    "    data['mode']=name_data[-2]\n",
    "    data['namafile']=file\n",
    "    files_data.append(data)\n",
    "files_df=pd.concat(files_data)\n",
    "files_df.reset_index()\n",
    "files_df.head()"
   ]
  },
  {
   "cell_type": "code",
   "execution_count": 36,
   "metadata": {},
   "outputs": [
    {
     "name": "stdout",
     "output_type": "stream",
     "text": [
      "<class 'pandas.core.frame.DataFrame'>\n",
      "Index: 6898 entries, 0 to 10\n",
      "Data columns (total 7 columns):\n",
      " #   Column    Non-Null Count  Dtype  \n",
      "---  ------    --------------  -----  \n",
      " 0   awal      6898 non-null   float64\n",
      " 1   akhir     6898 non-null   float64\n",
      " 2   crackles  6898 non-null   int64  \n",
      " 3   wheezes   6898 non-null   int64  \n",
      " 4   pid       6898 non-null   int32  \n",
      " 5   mode      6898 non-null   object \n",
      " 6   namafile  6898 non-null   object \n",
      "dtypes: float64(2), int32(1), int64(2), object(2)\n",
      "memory usage: 404.2+ KB\n"
     ]
    }
   ],
   "source": [
    "files_df.info()"
   ]
  },
  {
   "cell_type": "markdown",
   "metadata": {},
   "source": [
    "### Gabungan data_pasien dan files_df"
   ]
  },
  {
   "cell_type": "markdown",
   "metadata": {},
   "source": [
    "Data dari 6898 siklus pernapasan"
   ]
  },
  {
   "cell_type": "code",
   "execution_count": 51,
   "metadata": {},
   "outputs": [
    {
     "data": {
      "text/html": [
       "<div>\n",
       "<style scoped>\n",
       "    .dataframe tbody tr th:only-of-type {\n",
       "        vertical-align: middle;\n",
       "    }\n",
       "\n",
       "    .dataframe tbody tr th {\n",
       "        vertical-align: top;\n",
       "    }\n",
       "\n",
       "    .dataframe thead th {\n",
       "        text-align: right;\n",
       "    }\n",
       "</style>\n",
       "<table border=\"1\" class=\"dataframe\">\n",
       "  <thead>\n",
       "    <tr style=\"text-align: right;\">\n",
       "      <th></th>\n",
       "      <th>awal</th>\n",
       "      <th>akhir</th>\n",
       "      <th>crackles</th>\n",
       "      <th>wheezes</th>\n",
       "      <th>pid</th>\n",
       "      <th>mode</th>\n",
       "      <th>namafile</th>\n",
       "      <th>diagnosa</th>\n",
       "    </tr>\n",
       "  </thead>\n",
       "  <tbody>\n",
       "    <tr>\n",
       "      <th>0</th>\n",
       "      <td>0.036</td>\n",
       "      <td>0.579</td>\n",
       "      <td>0</td>\n",
       "      <td>0</td>\n",
       "      <td>101</td>\n",
       "      <td>sc</td>\n",
       "      <td>101_1b1_Al_sc_Meditron</td>\n",
       "      <td>URTI</td>\n",
       "    </tr>\n",
       "    <tr>\n",
       "      <th>1</th>\n",
       "      <td>0.579</td>\n",
       "      <td>2.450</td>\n",
       "      <td>0</td>\n",
       "      <td>0</td>\n",
       "      <td>101</td>\n",
       "      <td>sc</td>\n",
       "      <td>101_1b1_Al_sc_Meditron</td>\n",
       "      <td>URTI</td>\n",
       "    </tr>\n",
       "    <tr>\n",
       "      <th>2</th>\n",
       "      <td>2.450</td>\n",
       "      <td>3.893</td>\n",
       "      <td>0</td>\n",
       "      <td>0</td>\n",
       "      <td>101</td>\n",
       "      <td>sc</td>\n",
       "      <td>101_1b1_Al_sc_Meditron</td>\n",
       "      <td>URTI</td>\n",
       "    </tr>\n",
       "    <tr>\n",
       "      <th>3</th>\n",
       "      <td>3.893</td>\n",
       "      <td>5.793</td>\n",
       "      <td>0</td>\n",
       "      <td>0</td>\n",
       "      <td>101</td>\n",
       "      <td>sc</td>\n",
       "      <td>101_1b1_Al_sc_Meditron</td>\n",
       "      <td>URTI</td>\n",
       "    </tr>\n",
       "    <tr>\n",
       "      <th>4</th>\n",
       "      <td>5.793</td>\n",
       "      <td>7.521</td>\n",
       "      <td>0</td>\n",
       "      <td>0</td>\n",
       "      <td>101</td>\n",
       "      <td>sc</td>\n",
       "      <td>101_1b1_Al_sc_Meditron</td>\n",
       "      <td>URTI</td>\n",
       "    </tr>\n",
       "    <tr>\n",
       "      <th>...</th>\n",
       "      <td>...</td>\n",
       "      <td>...</td>\n",
       "      <td>...</td>\n",
       "      <td>...</td>\n",
       "      <td>...</td>\n",
       "      <td>...</td>\n",
       "      <td>...</td>\n",
       "      <td>...</td>\n",
       "    </tr>\n",
       "    <tr>\n",
       "      <th>6893</th>\n",
       "      <td>11.721</td>\n",
       "      <td>13.693</td>\n",
       "      <td>1</td>\n",
       "      <td>0</td>\n",
       "      <td>226</td>\n",
       "      <td>sc</td>\n",
       "      <td>226_1b1_Pl_sc_LittC2SE</td>\n",
       "      <td>Pneumonia</td>\n",
       "    </tr>\n",
       "    <tr>\n",
       "      <th>6894</th>\n",
       "      <td>13.693</td>\n",
       "      <td>15.536</td>\n",
       "      <td>0</td>\n",
       "      <td>0</td>\n",
       "      <td>226</td>\n",
       "      <td>sc</td>\n",
       "      <td>226_1b1_Pl_sc_LittC2SE</td>\n",
       "      <td>Pneumonia</td>\n",
       "    </tr>\n",
       "    <tr>\n",
       "      <th>6895</th>\n",
       "      <td>15.536</td>\n",
       "      <td>17.493</td>\n",
       "      <td>0</td>\n",
       "      <td>0</td>\n",
       "      <td>226</td>\n",
       "      <td>sc</td>\n",
       "      <td>226_1b1_Pl_sc_LittC2SE</td>\n",
       "      <td>Pneumonia</td>\n",
       "    </tr>\n",
       "    <tr>\n",
       "      <th>6896</th>\n",
       "      <td>17.493</td>\n",
       "      <td>19.436</td>\n",
       "      <td>1</td>\n",
       "      <td>0</td>\n",
       "      <td>226</td>\n",
       "      <td>sc</td>\n",
       "      <td>226_1b1_Pl_sc_LittC2SE</td>\n",
       "      <td>Pneumonia</td>\n",
       "    </tr>\n",
       "    <tr>\n",
       "      <th>6897</th>\n",
       "      <td>19.436</td>\n",
       "      <td>19.979</td>\n",
       "      <td>0</td>\n",
       "      <td>0</td>\n",
       "      <td>226</td>\n",
       "      <td>sc</td>\n",
       "      <td>226_1b1_Pl_sc_LittC2SE</td>\n",
       "      <td>Pneumonia</td>\n",
       "    </tr>\n",
       "  </tbody>\n",
       "</table>\n",
       "<p>6898 rows × 8 columns</p>\n",
       "</div>"
      ],
      "text/plain": [
       "        awal   akhir  crackles  wheezes  pid mode                namafile  \\\n",
       "0      0.036   0.579         0        0  101   sc  101_1b1_Al_sc_Meditron   \n",
       "1      0.579   2.450         0        0  101   sc  101_1b1_Al_sc_Meditron   \n",
       "2      2.450   3.893         0        0  101   sc  101_1b1_Al_sc_Meditron   \n",
       "3      3.893   5.793         0        0  101   sc  101_1b1_Al_sc_Meditron   \n",
       "4      5.793   7.521         0        0  101   sc  101_1b1_Al_sc_Meditron   \n",
       "...      ...     ...       ...      ...  ...  ...                     ...   \n",
       "6893  11.721  13.693         1        0  226   sc  226_1b1_Pl_sc_LittC2SE   \n",
       "6894  13.693  15.536         0        0  226   sc  226_1b1_Pl_sc_LittC2SE   \n",
       "6895  15.536  17.493         0        0  226   sc  226_1b1_Pl_sc_LittC2SE   \n",
       "6896  17.493  19.436         1        0  226   sc  226_1b1_Pl_sc_LittC2SE   \n",
       "6897  19.436  19.979         0        0  226   sc  226_1b1_Pl_sc_LittC2SE   \n",
       "\n",
       "       diagnosa  \n",
       "0          URTI  \n",
       "1          URTI  \n",
       "2          URTI  \n",
       "3          URTI  \n",
       "4          URTI  \n",
       "...         ...  \n",
       "6893  Pneumonia  \n",
       "6894  Pneumonia  \n",
       "6895  Pneumonia  \n",
       "6896  Pneumonia  \n",
       "6897  Pneumonia  \n",
       "\n",
       "[6898 rows x 8 columns]"
      ]
     },
     "execution_count": 51,
     "metadata": {},
     "output_type": "execute_result"
    }
   ],
   "source": [
    "data_pasien.pid=data_pasien.pid.astype('int32')\n",
    "files_df.pid=files_df.pid.astype('int32')\n",
    "data=pd.merge(files_df,data_pasien,on='pid')\n",
    "data"
   ]
  },
  {
   "cell_type": "code",
   "execution_count": 53,
   "metadata": {},
   "outputs": [],
   "source": [
    "os.makedirs('csv_data')\n",
    "data.to_csv('csv_data/data.csv',index=False)"
   ]
  },
  {
   "cell_type": "markdown",
   "metadata": {},
   "source": [
    "# Preparing Audio Files"
   ]
  },
  {
   "cell_type": "markdown",
   "metadata": {},
   "source": [
    "Mengambil bagian dari file audio berisikan siklus pernapasan sebelumnya berdasarkan awal dan akhir dari setiap siklusnya dari dataframe data\n",
    "\n",
    "- raw_data=numpy array dari audio\n",
    "- sr=sampling_rate"
   ]
  },
  {
   "cell_type": "markdown",
   "metadata": {},
   "source": [
    "### Visualisasi lama siklus pernapasan"
   ]
  },
  {
   "cell_type": "code",
   "execution_count": 42,
   "metadata": {},
   "outputs": [
    {
     "data": {
      "text/plain": [
       "<Axes: xlabel='None', ylabel='pid'>"
      ]
     },
     "execution_count": 42,
     "metadata": {},
     "output_type": "execute_result"
    },
    {
     "data": {
      "image/png": "[encoded data removed]",
      "text/plain": [
       "<Figure size 640x480 with 1 Axes>"
      ]
     },
     "metadata": {},
     "output_type": "display_data"
    }
   ],
   "source": [
    "sns.scatterplot(x=(data.akhir-data.awal), y=data.pid)"
   ]
  },
  {
   "cell_type": "code",
   "execution_count": 43,
   "metadata": {},
   "outputs": [
    {
     "data": {
      "text/plain": [
       "<Axes: ylabel='None'>"
      ]
     },
     "execution_count": 43,
     "metadata": {},
     "output_type": "execute_result"
    },
    {
     "data": {
      "image/png": "[encoded data removed]",
      "text/plain": [
       "<Figure size 640x480 with 1 Axes>"
      ]
     },
     "metadata": {},
     "output_type": "display_data"
    }
   ],
   "source": [
    "sns.boxplot(y=(data.akhir-data.awal))"
   ]
  },
  {
   "cell_type": "markdown",
   "metadata": {},
   "source": [
    "Berdasarkan kedua visualisasi, median dari lama siklus berada pada rentang 2-4 detik, dengan kuartil 3 berada pada ~6 detik."
   ]
  },
  {
   "cell_type": "markdown",
   "metadata": {},
   "source": [
    "### Pemisahan audio menjadi per siklus pernapasan"
   ]
  },
  {
   "cell_type": "markdown",
   "metadata": {},
   "source": [
    "Untuk menyamakan durasi siklus pernapasan menjadi 6 detik, rekaman audio yang lebih pendek akan ditambahkan zero pad, sedangkan yang lebih panjang akan dipotong."
   ]
  },
  {
   "cell_type": "code",
   "execution_count": null,
   "metadata": {},
   "outputs": [],
   "source": [
    "def getAudio(raw_data,awal,akhir,sr=22050):\n",
    "    max_ind = len(raw_data) \n",
    "    awal_ind = min(int(awal * sr), max_ind)\n",
    "    akhir_ind = min(int(akhir * sr), max_ind)\n",
    "    return raw_data[awal_ind: akhir_ind]"
   ]
  },
  {
   "cell_type": "code",
   "execution_count": null,
   "metadata": {},
   "outputs": [],
   "source": [
    "os.makedirs('audio_6secs')"
   ]
  },
  {
   "cell_type": "code",
   "execution_count": null,
   "metadata": {},
   "outputs": [
    {
     "name": "stdout",
     "output_type": "stream",
     "text": [
      "Total audio yang diproses:  6898\n"
     ]
    }
   ],
   "source": [
    "i,c=0,0\n",
    "for index,row in data.iterrows():\n",
    "    maxLen=6\n",
    "    awal=row['awal']\n",
    "    akhir=row['akhir']\n",
    "    namafile=row['namafile']\n",
    "    \n",
    "    #If len > maxLen , change it to maxLen\n",
    "    if akhir-awal>maxLen:\n",
    "        akhir=awal+maxLen\n",
    "    \n",
    "    audio_loc=path + namafile + '.wav'\n",
    "    \n",
    "    if index > 0:\n",
    "        #check if more cycles exits for same patient if so then add i to change filename\n",
    "        if data.iloc[index-1]['namafile']==namafile:\n",
    "            i+=1\n",
    "        else:\n",
    "            i=0\n",
    "    namafile= namafile + '_' + str(i) + '.wav'\n",
    "    \n",
    "    save_path='audio_6secs/' + namafile\n",
    "    c+=1\n",
    "    \n",
    "    audioArr,sampleRate=lb.load(audio_loc)\n",
    "    audio=getAudio(audioArr,awal,akhir,sampleRate)\n",
    "    \n",
    "    #pad audio if pureSample len < max_len\n",
    "    reqLen=6*sampleRate\n",
    "    padded_data = lb.util.pad_center(audio, size=reqLen)\n",
    "    \n",
    "    sf.write(file=save_path,data=padded_data,samplerate=sampleRate)\n",
    "print('Total audio yang diproses: ',c)"
   ]
  },
  {
   "cell_type": "markdown",
   "metadata": {},
   "source": [
    "lanjut ke part 2 hehehe"
   ]
  }
 ],
 "metadata": {
  "colab": {
   "provenance": []
  },
  "kernelspec": {
   "display_name": "Python 3",
   "name": "python3"
  },
  "language_info": {
   "codemirror_mode": {
    "name": "ipython",
    "version": 3
   },
   "file_extension": ".py",
   "mimetype": "text/x-python",
   "name": "python",
   "nbconvert_exporter": "python",
   "pygments_lexer": "ipython3",
   "version": "3.9.11"
  }
 },
 "nbformat": 4,
 "nbformat_minor": 0
}
